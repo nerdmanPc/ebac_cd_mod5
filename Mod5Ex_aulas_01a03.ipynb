{
 "cells": [
  {
   "cell_type": "markdown",
   "metadata": {},
   "source": [
    "# Módulo 5 Tarefa 1\n",
    "## Base de nascidos vivos do DataSUS\n",
    "O DataSUS disponibiliza diversos arquivos de dados com relação a seus segurados, conforme a [lei da transparência de informações públicas](https://www.sisgov.com/transparencia-acesso-informacao/#:~:text=A%20Lei%20da%20Transpar%C3%AAncia%20(LC,em%20um%20site%20na%20internet.). \n",
    "\n",
    "Essas informações podem ser obtidas pela internet [aqui](http://www2.datasus.gov.br/DATASUS/index.php?area=0901&item=1). Como o processo de obtenção desses arquivos foge um pouco do nosso escopo, deixamos o arquivo ```SINASC_RO_2019.csv``` já como vai ser encontrado no DataSUS. O dicionário de dados está no arquivo ```estrutura_sinasc_para_CD.pdf``` (o nome do arquivo tal qual no portal do DataSUS).\n",
    "\n",
    "### Nosso objetivo\n",
    "Queremos deixar uma base organizada para podermos estudar a relação entre partos com risco para o bebê e algumas condições como tempo de parto, consultas de pré-natal etc.\n",
    "\n",
    "#### Preparação da base\n",
    "1. Carregue a base 'SINASC_RO_2019.csv'. Conte o número de registros e o número de registros não duplicados da base. Dica: você aprendeu um método que remove duplicados, encadeie este método com um outro método que conta o número de linhas. **Há linhas duplicadas?**  \n",
    "\n",
    "2. Conte o número de valores *missing* por variável.  \n",
    "\n",
    "3. Ok, no item anterior você deve ter achado pouco prático ler a informação de tantas variáveis, muitas delas nem devem ser interesantes. Então crie uma seleção dessa base somente com as colunas que interessam. São elas:\n",
    "``` \n",
    "['LOCNASC', 'IDADEMAE', 'ESTCIVMAE', 'ESCMAE', 'QTDFILVIVO', \n",
    "    'GESTACAO', 'GRAVIDEZ', 'CONSULTAS', 'APGAR5'] \n",
    "```\n",
    "Refaça a contagem de valores *missings*.  \n",
    "\n",
    "4. Apgar é uma *nota* que o pediatra dá ao bebê quando nasce de acordo com algumas características associadas principalmente à respiração. Apgar 1 e Apgar 5 são as notas 1 e 5 minutos do nascimento. Apgar5 será a nossa variável de interesse principal. Então remova todos os registros com Apgar5 não preenchido. Para esta seleção, conte novamente o número de linhas e o número de *missings*.  \n",
    "\n",
    "5. observe que as variáveis ```['ESTCIVMAE', 'CONSULTAS']``` possuem o código ```9```, que significa *ignorado*. Vamos assumir que o não preenchido é o mesmo que o código ```9```.<br>\n",
    "6. Substitua os valores faltantes da quantitativa (```QTDFILVIVO```) por zero.  \n",
    "7. Das restantes, decida que valore te parece mais adequado (um 'não preenchido' ou um valor 'mais provável' como no item anterior) e preencha. Justifique. Lembre-se de que tratamento de dados é trabalho do cientista, e que estamos tomando decisões a todo o momento - não há necessariamente certo e errado aqui.  \n",
    "8. O Apgar possui uma classificação indicando se o bebê passou por asfixia:\n",
    "- Entre 8 e 10 está em uma faixa 'normal'. \n",
    "- Entre 6 e 7, significa que o recém-nascido passou por 'asfixia leve'. \n",
    "- Entre 4 e 5 significa 'asfixia moderada'.\n",
    "- Entre 0 e 3 significa 'asfixia severa'.  \n",
    "\n",
    "Crie uma categorização dessa variável com essa codificação e calcule as frequências dessa categorização.  \n",
    "<br>\n",
    "9. Renomeie as variáveis para que fiquem no *snake case*, ou seja, em letras minúsculas, com um *underscore* entre as palávras. Dica: repare que se você não quiser criar um *dataframe* novo, você vai precisar usar a opção ```inplace = True```."
   ]
  },
  {
   "cell_type": "code",
   "execution_count": 1,
   "metadata": {},
   "outputs": [
    {
     "name": "stdout",
     "output_type": "stream",
     "text": [
      "(27028, 69)\n"
     ]
    },
    {
     "data": {
      "text/plain": [
       "(27028, 69)"
      ]
     },
     "execution_count": 1,
     "metadata": {},
     "output_type": "execute_result"
    }
   ],
   "source": [
    "import pandas as pd\n",
    "import requests\n",
    "\n",
    "# 1) seu código aqui\n",
    "sinasc = pd.read_csv('SINASC_RO_2019.csv')\n",
    "print(sinasc.shape)\n",
    "sinasc.drop_duplicates().shape\n",
    "# Não há duplicados"
   ]
  },
  {
   "cell_type": "code",
   "execution_count": 2,
   "metadata": {},
   "outputs": [
    {
     "name": "stdout",
     "output_type": "stream",
     "text": [
      "ORIGEM: 0\n",
      "CODESTAB: 115\n",
      "CODMUNNASC: 0\n",
      "LOCNASC: 0\n",
      "IDADEMAE: 0\n",
      "ESTCIVMAE: 317\n",
      "ESCMAE: 312\n",
      "CODOCUPMAE: 2907\n",
      "QTDFILVIVO: 1573\n",
      "QTDFILMORT: 2098\n",
      "CODMUNRES: 0\n",
      "GESTACAO: 1232\n",
      "GRAVIDEZ: 79\n",
      "PARTO: 49\n",
      "CONSULTAS: 0\n",
      "DTNASC: 0\n",
      "HORANASC: 21\n",
      "SEXO: 4\n",
      "APGAR1: 96\n",
      "APGAR5: 103\n",
      "RACACOR: 647\n",
      "PESO: 0\n",
      "IDANOMAL: 591\n",
      "DTCADASTRO: 0\n",
      "CODANOMAL: 26814\n",
      "NUMEROLOTE: 0\n",
      "VERSAOSIST: 0\n",
      "DTRECEBIM: 0\n",
      "DIFDATA: 0\n",
      "DTRECORIGA: 27028\n",
      "NATURALMAE: 298\n",
      "CODMUNNATU: 298\n",
      "CODUFNATU: 298\n",
      "ESCMAE2010: 249\n",
      "SERIESCMAE: 12710\n",
      "DTNASCMAE: 40\n",
      "RACACORMAE: 661\n",
      "QTDGESTANT: 1212\n",
      "QTDPARTNOR: 1879\n",
      "QTDPARTCES: 1791\n",
      "IDADEPAI: 19421\n",
      "DTULTMENST: 10072\n",
      "SEMAGESTAC: 1238\n",
      "TPMETESTIM: 1238\n",
      "CONSPRENAT: 930\n",
      "MESPRENAT: 2867\n",
      "TPAPRESENT: 265\n",
      "STTRABPART: 947\n",
      "STCESPARTO: 747\n",
      "TPNASCASSI: 61\n",
      "TPFUNCRESP: 67\n",
      "TPDOCRESP: 14\n",
      "DTDECLARAC: 52\n",
      "ESCMAEAGR1: 249\n",
      "STDNEPIDEM: 0\n",
      "STDNNOVA: 0\n",
      "CODPAISRES: 0\n",
      "TPROBSON: 0\n",
      "PARIDADE: 0\n",
      "KOTELCHUCK: 0\n",
      "CONTADOR: 0\n",
      "munResStatus: 0\n",
      "munResTipo: 0\n",
      "munResNome: 0\n",
      "munResUf: 0\n",
      "munResLat: 1\n",
      "munResLon: 1\n",
      "munResAlt: 1\n",
      "munResArea: 1\n"
     ]
    }
   ],
   "source": [
    "# 2) seu código aqui\n",
    "for col in sinasc.columns:\n",
    "    print(f'{col}: {sinasc[col].isna().sum()}')"
   ]
  },
  {
   "cell_type": "code",
   "execution_count": 3,
   "metadata": {},
   "outputs": [
    {
     "name": "stdout",
     "output_type": "stream",
     "text": [
      "LOCNASC: 0\n",
      "IDADEMAE: 0\n",
      "ESTCIVMAE: 317\n",
      "ESCMAE: 312\n",
      "QTDFILVIVO: 1573\n",
      "GESTACAO: 1232\n",
      "GRAVIDEZ: 79\n",
      "CONSULTAS: 0\n",
      "APGAR5: 103\n"
     ]
    }
   ],
   "source": [
    "# 3) seu código aqui\n",
    "cols_relevantes = [\n",
    "    'LOCNASC', \n",
    "    'IDADEMAE', \n",
    "    'ESTCIVMAE', \n",
    "    'ESCMAE', \n",
    "    'QTDFILVIVO', \n",
    "    'GESTACAO', \n",
    "    'GRAVIDEZ', \n",
    "    'CONSULTAS', \n",
    "    'APGAR5'\n",
    "]\n",
    "df = sinasc[cols_relevantes]\n",
    "for col in df.columns:\n",
    "    print(f'{col}: {df[col].isna().sum()}')"
   ]
  },
  {
   "cell_type": "code",
   "execution_count": 4,
   "metadata": {},
   "outputs": [
    {
     "name": "stdout",
     "output_type": "stream",
     "text": [
      "Linhas faltando APGAR5: 0\n",
      "Linhas totais: 26925\n"
     ]
    }
   ],
   "source": [
    "# 4) seu código aqui\n",
    "df = df[~df['APGAR5'].isna()]\n",
    "print(f'Linhas faltando APGAR5: {df[\"APGAR5\"].isna().sum()}')\n",
    "print(f'Linhas totais: {df.shape[0]}')"
   ]
  },
  {
   "cell_type": "code",
   "execution_count": 5,
   "metadata": {},
   "outputs": [],
   "source": [
    "# 5.1) seu código aqui\n",
    "df['ESTCIVMAE'] = df['ESTCIVMAE'].fillna(9)"
   ]
  },
  {
   "cell_type": "code",
   "execution_count": 6,
   "metadata": {},
   "outputs": [],
   "source": [
    "# 5.2) seu código aqui\n",
    "df['CONSULTAS'] = df['CONSULTAS'].fillna(9)"
   ]
  },
  {
   "cell_type": "code",
   "execution_count": 7,
   "metadata": {},
   "outputs": [],
   "source": [
    "# 6) Seu código aqui\n",
    "df['QTDFILVIVO'] = df['QTDFILVIVO'].fillna(0)"
   ]
  },
  {
   "cell_type": "code",
   "execution_count": 8,
   "metadata": {},
   "outputs": [
    {
     "name": "stdout",
     "output_type": "stream",
     "text": [
      "LOCNASC: 0\n",
      "IDADEMAE: 0\n",
      "ESTCIVMAE: 0\n",
      "ESCMAE: 310\n",
      "QTDFILVIVO: 0\n",
      "GESTACAO: 1216\n",
      "GRAVIDEZ: 76\n",
      "CONSULTAS: 0\n",
      "APGAR5: 0\n"
     ]
    }
   ],
   "source": [
    "# 7) seu código aqui\n",
    "for col in df.columns:\n",
    "    print(f'{col}: {df[col].isna().sum()}')"
   ]
  },
  {
   "cell_type": "markdown",
   "metadata": {},
   "source": [
    "As variáveis ESCMAE, GESTAACAOE GRAVIDEZ possuem o valor 9 para \"Ignorado\". Como esse valor possui significado semelnhante a dados faltantes, basta preenchê-los com o tal."
   ]
  },
  {
   "cell_type": "code",
   "execution_count": 9,
   "metadata": {},
   "outputs": [],
   "source": [
    "df['ESCMAE'] = df['ESCMAE'].fillna(9)\n",
    "df['GESTACAO'] = df['GESTACAO'].fillna(9)\n",
    "df['GRAVIDEZ'] = df['GRAVIDEZ'].fillna(9)\n"
   ]
  },
  {
   "cell_type": "code",
   "execution_count": 10,
   "metadata": {},
   "outputs": [
    {
     "name": "stdout",
     "output_type": "stream",
     "text": [
      "LOCNASC: 0\n",
      "IDADEMAE: 0\n",
      "ESTCIVMAE: 0\n",
      "ESCMAE: 0\n",
      "QTDFILVIVO: 0\n",
      "GESTACAO: 0\n",
      "GRAVIDEZ: 0\n",
      "CONSULTAS: 0\n",
      "APGAR5: 0\n"
     ]
    }
   ],
   "source": [
    "for col in df.columns:\n",
    "    print(f'{col}: {df[col].isna().sum()}')"
   ]
  },
  {
   "cell_type": "code",
   "execution_count": 14,
   "metadata": {},
   "outputs": [
    {
     "data": {
      "text/plain": [
       "normal              26463\n",
       "asfixia leve          320\n",
       "asfixia severa         74\n",
       "asfixia moderada       68\n",
       "Name: FXAPGAR5, dtype: int64"
      ]
     },
     "execution_count": 14,
     "metadata": {},
     "output_type": "execute_result"
    }
   ],
   "source": [
    "# 8) seu código aqui\n",
    "apgar_normal = df['APGAR5'] >= 8\n",
    "asfix_leve = (df['APGAR5'] >= 6) & (df['APGAR5'] <= 7)\n",
    "asfix_moderada = (df['APGAR5'] >= 4) & (df['APGAR5'] <= 5)\n",
    "asfix_severa = df['APGAR5'] <= 3\n",
    "\n",
    "df.loc[apgar_normal, 'FXAPGAR5'] = 'normal'\n",
    "df.loc[asfix_leve, 'FXAPGAR5'] = 'asfixia leve'\n",
    "df.loc[asfix_moderada, 'FXAPGAR5'] = 'asfixia moderada'\n",
    "df.loc[asfix_severa, 'FXAPGAR5'] = 'asfixia severa'\n",
    "\n",
    "df['FXAPGAR5'].value_counts()"
   ]
  },
  {
   "cell_type": "code",
   "execution_count": 19,
   "metadata": {},
   "outputs": [
    {
     "data": {
      "text/html": [
       "<div>\n",
       "<style scoped>\n",
       "    .dataframe tbody tr th:only-of-type {\n",
       "        vertical-align: middle;\n",
       "    }\n",
       "\n",
       "    .dataframe tbody tr th {\n",
       "        vertical-align: top;\n",
       "    }\n",
       "\n",
       "    .dataframe thead th {\n",
       "        text-align: right;\n",
       "    }\n",
       "</style>\n",
       "<table border=\"1\" class=\"dataframe\">\n",
       "  <thead>\n",
       "    <tr style=\"text-align: right;\">\n",
       "      <th></th>\n",
       "      <th>loc_nasc</th>\n",
       "      <th>idade_mae</th>\n",
       "      <th>est_civ_mae</th>\n",
       "      <th>esc_mae</th>\n",
       "      <th>qtd_fil_vivo</th>\n",
       "      <th>tempo_gest</th>\n",
       "      <th>tipo_gest</th>\n",
       "      <th>consultas</th>\n",
       "      <th>apgar_5</th>\n",
       "      <th>fx_apgar_5</th>\n",
       "    </tr>\n",
       "  </thead>\n",
       "  <tbody>\n",
       "    <tr>\n",
       "      <th>0</th>\n",
       "      <td>1</td>\n",
       "      <td>19</td>\n",
       "      <td>5.0</td>\n",
       "      <td>8 a 11 anos</td>\n",
       "      <td>0.0</td>\n",
       "      <td>37 a 41 semanas</td>\n",
       "      <td>Única</td>\n",
       "      <td>4</td>\n",
       "      <td>10.0</td>\n",
       "      <td>normal</td>\n",
       "    </tr>\n",
       "    <tr>\n",
       "      <th>1</th>\n",
       "      <td>1</td>\n",
       "      <td>29</td>\n",
       "      <td>2.0</td>\n",
       "      <td>8 a 11 anos</td>\n",
       "      <td>1.0</td>\n",
       "      <td>37 a 41 semanas</td>\n",
       "      <td>Única</td>\n",
       "      <td>4</td>\n",
       "      <td>9.0</td>\n",
       "      <td>normal</td>\n",
       "    </tr>\n",
       "    <tr>\n",
       "      <th>2</th>\n",
       "      <td>1</td>\n",
       "      <td>37</td>\n",
       "      <td>9.0</td>\n",
       "      <td>8 a 11 anos</td>\n",
       "      <td>2.0</td>\n",
       "      <td>37 a 41 semanas</td>\n",
       "      <td>Única</td>\n",
       "      <td>4</td>\n",
       "      <td>10.0</td>\n",
       "      <td>normal</td>\n",
       "    </tr>\n",
       "    <tr>\n",
       "      <th>3</th>\n",
       "      <td>1</td>\n",
       "      <td>30</td>\n",
       "      <td>5.0</td>\n",
       "      <td>12 anos ou mais</td>\n",
       "      <td>0.0</td>\n",
       "      <td>37 a 41 semanas</td>\n",
       "      <td>Única</td>\n",
       "      <td>3</td>\n",
       "      <td>10.0</td>\n",
       "      <td>normal</td>\n",
       "    </tr>\n",
       "    <tr>\n",
       "      <th>4</th>\n",
       "      <td>1</td>\n",
       "      <td>30</td>\n",
       "      <td>2.0</td>\n",
       "      <td>8 a 11 anos</td>\n",
       "      <td>1.0</td>\n",
       "      <td>37 a 41 semanas</td>\n",
       "      <td>Única</td>\n",
       "      <td>4</td>\n",
       "      <td>10.0</td>\n",
       "      <td>normal</td>\n",
       "    </tr>\n",
       "  </tbody>\n",
       "</table>\n",
       "</div>"
      ],
      "text/plain": [
       "   loc_nasc  idade_mae  est_civ_mae          esc_mae  qtd_fil_vivo  \\\n",
       "0         1         19          5.0      8 a 11 anos           0.0   \n",
       "1         1         29          2.0      8 a 11 anos           1.0   \n",
       "2         1         37          9.0      8 a 11 anos           2.0   \n",
       "3         1         30          5.0  12 anos ou mais           0.0   \n",
       "4         1         30          2.0      8 a 11 anos           1.0   \n",
       "\n",
       "        tempo_gest tipo_gest  consultas  apgar_5 fx_apgar_5  \n",
       "0  37 a 41 semanas     Única          4     10.0     normal  \n",
       "1  37 a 41 semanas     Única          4      9.0     normal  \n",
       "2  37 a 41 semanas     Única          4     10.0     normal  \n",
       "3  37 a 41 semanas     Única          3     10.0     normal  \n",
       "4  37 a 41 semanas     Única          4     10.0     normal  "
      ]
     },
     "execution_count": 19,
     "metadata": {},
     "output_type": "execute_result"
    }
   ],
   "source": [
    "# 9) seu código aqui\n",
    "df.columns = [\n",
    "    'loc_nasc',\n",
    "    'idade_mae',\n",
    "    'est_civ_mae',\n",
    "    'esc_mae',\n",
    "    'qtd_fil_vivo',\n",
    "    'tempo_gest',\n",
    "    'tipo_gest',\n",
    "    'consultas',\n",
    "    'apgar_5',\n",
    "    'fx_apgar_5'\n",
    "]\n",
    "df.head()"
   ]
  }
 ],
 "metadata": {
  "kernelspec": {
   "display_name": "Python 3.10.4 64-bit",
   "language": "python",
   "name": "python3"
  },
  "language_info": {
   "codemirror_mode": {
    "name": "ipython",
    "version": 3
   },
   "file_extension": ".py",
   "mimetype": "text/x-python",
   "name": "python",
   "nbconvert_exporter": "python",
   "pygments_lexer": "ipython3",
   "version": "3.10.4"
  },
  "vscode": {
   "interpreter": {
    "hash": "916dbcbb3f70747c44a77c7bcd40155683ae19c65e1c03b4aa3499c5328201f1"
   }
  }
 },
 "nbformat": 4,
 "nbformat_minor": 4
}
